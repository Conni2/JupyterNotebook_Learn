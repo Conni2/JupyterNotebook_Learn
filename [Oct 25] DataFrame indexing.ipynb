{
 "cells": [
  {
   "cell_type": "code",
   "execution_count": 1,
   "metadata": {},
   "outputs": [
    {
     "data": {
      "text/plain": [
       "Number\n",
       "1       85.2\n",
       "2       67.7\n",
       "3       75.2\n",
       "4       67.1\n",
       "5       63.0\n",
       "        ... \n",
       "996     68.2\n",
       "997     75.6\n",
       "998     66.5\n",
       "999     72.0\n",
       "1000    77.4\n",
       "Name: Weight, Length: 1000, dtype: float64"
      ]
     },
     "execution_count": 1,
     "metadata": {},
     "output_type": "execute_result"
    }
   ],
   "source": [
    "#choosing data(=data indexing) -> df.loc['row', 'column']\n",
    "import pandas as pd\n",
    "\n",
    "df = pd.read_csv('/Users/conniekeum/Desktop/JupyterNotebook_LEARN/[Oct 24] Pandas_reading file/body.csv', index_col = 0)\n",
    "df.loc[:,'Weight']"
   ]
  }
 ],
 "metadata": {
  "kernelspec": {
   "display_name": "Python 3",
   "language": "python",
   "name": "python3"
  },
  "language_info": {
   "codemirror_mode": {
    "name": "ipython",
    "version": 3
   },
   "file_extension": ".py",
   "mimetype": "text/x-python",
   "name": "python",
   "nbconvert_exporter": "python",
   "pygments_lexer": "ipython3",
   "version": "3.8.5"
  }
 },
 "nbformat": 4,
 "nbformat_minor": 4
}
