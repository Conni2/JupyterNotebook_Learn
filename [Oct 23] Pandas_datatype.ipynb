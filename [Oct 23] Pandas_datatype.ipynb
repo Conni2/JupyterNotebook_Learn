{
 "cells": [
  {
   "cell_type": "markdown",
   "metadata": {},
   "source": [
    "# Pandas datatype\n",
    "A pandas DataFrame can contain various types of data. You can use **dtypes** to check what data type each column holds.\n",
    "\n",
    "| Data Type     | Description                 |\n",
    "| ------------- | --------------------------- |\n",
    "| int64       | Integer |\n",
    "| float64         | Float        |\n",
    "| object        | Text       |\n",
    "| bool       | Boolean         |\n",
    "| datetime64          | Represents dates             |\n",
    "| category | Categories        |"
   ]
  }
 ],
 "metadata": {
  "kernelspec": {
   "display_name": "Python 3",
   "language": "python",
   "name": "python3"
  },
  "language_info": {
   "codemirror_mode": {
    "name": "ipython",
    "version": 3
   },
   "file_extension": ".py",
   "mimetype": "text/x-python",
   "name": "python",
   "nbconvert_exporter": "python",
   "pygments_lexer": "ipython3",
   "version": "3.8.5"
  }
 },
 "nbformat": 4,
 "nbformat_minor": 4
}
