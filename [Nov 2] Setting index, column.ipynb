{
 "cells": [
  {
   "cell_type": "code",
   "execution_count": null,
   "metadata": {},
   "outputs": [],
   "source": [
    "#rename\n",
    "df.rename(columns = {'Asis':'Tobe'})\n",
    "#to change the original data put inplace=True\n",
    "df.rename(columns = {'Asis': 'Tobe'}, inplace=True)"
   ]
  },
  {
   "cell_type": "code",
   "execution_count": null,
   "metadata": {},
   "outputs": [],
   "source": [
    "#naming index\n",
    "df.index.name = 'Name'"
   ]
  },
  {
   "cell_type": "code",
   "execution_count": null,
   "metadata": {},
   "outputs": [],
   "source": [
    "#changing index with other column\n",
    "df.index\n",
    "df['original index']=df.index\n",
    "#setting new index with the row\n",
    "df.set_index('new index',inplace= True)"
   ]
  },
  {
   "cell_type": "code",
   "execution_count": null,
   "metadata": {},
   "outputs": [],
   "source": [
    "#rename\n",
    "df.rename(columns = {'Asis':'Tobe'})\n",
    "#to change the original data put inplace=True\n",
    "df.rename(columns = {'Asis': 'Tobe'}, inplace=True)\n",
    "\n",
    "#naming index\n",
    "df.index.name = 'Name'\n",
    "\n",
    "#changing index with other column\n",
    "df.index\n",
    "df['original index']=df.index\n",
    "#setting new index with the row\n",
    "df.set_index('new index',inplace= True)"
   ]
  }
 ],
 "metadata": {
  "kernelspec": {
   "display_name": "Python 3",
   "language": "python",
   "name": "python3"
  },
  "language_info": {
   "codemirror_mode": {
    "name": "ipython",
    "version": 3
   },
   "file_extension": ".py",
   "mimetype": "text/x-python",
   "name": "python",
   "nbconvert_exporter": "python",
   "pygments_lexer": "ipython3",
   "version": "3.8.5"
  }
 },
 "nbformat": 4,
 "nbformat_minor": 4
}
