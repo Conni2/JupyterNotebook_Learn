{
 "cells": [
  {
   "cell_type": "code",
   "execution_count": 3,
   "metadata": {},
   "outputs": [
    {
     "name": "stdout",
     "output_type": "stream",
     "text": [
      "31\n",
      "5\n",
      "15.25\n",
      "13.5\n",
      "8.496322733983215\n",
      "72.1875\n"
     ]
    }
   ],
   "source": [
    "import numpy as np\n",
    "\n",
    "array1 = np.array([14, 6, 13, 21, 23, 31, 9, 5])\n",
    "\n",
    "#maximum / minimum\n",
    "print (array1.max())\n",
    "print (array1.min())\n",
    "\n",
    "#mean\n",
    "print(array1.mean())\n",
    "\n",
    "#median: unlike other methods, median is numpy method, not numpy array method\n",
    "print(np.median(array1))\n",
    "\n",
    "#standard deviation / variation\n",
    "print(np.std(array1))\n",
    "print(np.var(array1))"
   ]
  }
 ],
 "metadata": {
  "kernelspec": {
   "display_name": "Python 3",
   "language": "python",
   "name": "python3"
  },
  "language_info": {
   "codemirror_mode": {
    "name": "ipython",
    "version": 3
   },
   "file_extension": ".py",
   "mimetype": "text/x-python",
   "name": "python",
   "nbconvert_exporter": "python",
   "pygments_lexer": "ipython3",
   "version": "3.8.5"
  }
 },
 "nbformat": 4,
 "nbformat_minor": 4
}
